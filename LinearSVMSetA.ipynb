{
 "cells": [
  {
   "cell_type": "code",
   "execution_count": 1,
   "metadata": {
    "collapsed": false
   },
   "outputs": [],
   "source": [
    "import numpy as np\n",
    "import pandas as pd\n",
    "import seaborn as sns\n",
    "from sklearn.externals import joblib\n",
    "from TrainTestSplit import trainTestSplit\n",
    "from sklearn.naive_bayes import GaussianNB\n",
    "\n",
    "'------------------------------------------------- Initial Setup -------------------------------------------------'\n",
    "\n",
    "%matplotlib inline\n",
    "from sklearn.svm import SVC\n",
    "import matplotlib.pyplot as plt\n",
    "from collections import OrderedDict\n",
    "from sklearn.feature_selection import RFE\n",
    "from sklearn.feature_selection import RFECV\n",
    "from sklearn.metrics import confusion_matrix\n",
    "from sklearn.grid_search import GridSearchCV\n",
    "from sklearn.model_selection import ShuffleSplit\n",
    "from sklearn.metrics import classification_report\n",
    "from sklearn.model_selection import learning_curve\n",
    "from sklearn.model_selection import cross_val_score\n",
    "\n",
    "np.set_printoptions(precision = 2)"
   ]
  },
  {
   "cell_type": "code",
   "execution_count": 2,
   "metadata": {
    "collapsed": true
   },
   "outputs": [],
   "source": [
    "## Loading in the data of Set A.\n",
    "XTrain, XTest, YTrain, YTest = trainTestSplit(\"A\")"
   ]
  },
  {
   "cell_type": "code",
   "execution_count": 3,
   "metadata": {
    "collapsed": false
   },
   "outputs": [
    {
     "name": "stdout",
     "output_type": "stream",
     "text": [
      "Cross Validation Score :  0.538000519664\n",
      "Training Accuracy :  0.540586727428\n",
      "Testing Accuracy :  0.5609375\n"
     ]
    }
   ],
   "source": [
    "## Setting the classifier to be Vanilla Linear SVM.\n",
    "Classifier = SVC(kernel = 'linear')\n",
    "\n",
    "## Defining a list to store the Cross-Validation Scores.\n",
    "crossValidationScores = []\n",
    "\n",
    "## Computing the 10-fold cross-validation score.\n",
    "cvScore = cross_val_score(Classifier, XTrain, YTrain['FTR'], cv = 10)\n",
    "crossValidationScores.append(np.mean(cvScore))\n",
    "print \"Cross Validation Score : \", np.mean(crossValidationScores)\n",
    "\n",
    "## Computing the Training and Testing Accuracies.\n",
    "Classifier.fit(XTrain,YTrain)\n",
    "print \"Training Accuracy : \", Classifier.score(XTrain, YTrain)\n",
    "print \"Testing Accuracy : \", Classifier.score(XTest, YTest)"
   ]
  },
  {
   "cell_type": "code",
   "execution_count": 4,
   "metadata": {
    "collapsed": false
   },
   "outputs": [],
   "source": [
    "parameters = { 'C' : [1, 2, 3, 4, 5, 6, 7, 8, 9, 10],\n",
    "               'gamma' : [0.01, 0.02, 0.03, 0.04, 0.05, 0.10, 0.20, 0.30, 0.40, 0.50]\n",
    "              }\n",
    "\n",
    "Clf = joblib.load('./GridSearchObjects/LSVMSetACP1.pkl')"
   ]
  },
  {
   "cell_type": "code",
   "execution_count": 5,
   "metadata": {
    "collapsed": true
   },
   "outputs": [],
   "source": [
    "## Clf = GridSearchCV(Classifier, parameters, n_jobs = 5, verbose = 4, scoring = 'accuracy')\n",
    "\n",
    "## ## Fitting the Model to the Training Data.\n",
    "## Clf.fit(XTrain, YTrain.values.ravel())"
   ]
  },
  {
   "cell_type": "code",
   "execution_count": 6,
   "metadata": {
    "collapsed": false
   },
   "outputs": [
    {
     "name": "stdout",
     "output_type": "stream",
     "text": [
      "0.53631444033\n",
      "SVC(C=2, cache_size=200, class_weight=None, coef0=0.0,\n",
      "  decision_function_shape=None, degree=3, gamma=0.01, kernel='linear',\n",
      "  max_iter=-1, probability=False, random_state=None, shrinking=True,\n",
      "  tol=0.001, verbose=False)\n"
     ]
    }
   ],
   "source": [
    "## Printing the statistics after hyper-parameter tuning.\n",
    "print Clf.best_score_\n",
    "print Clf.best_estimator_"
   ]
  },
  {
   "cell_type": "code",
   "execution_count": 7,
   "metadata": {
    "collapsed": false
   },
   "outputs": [
    {
     "name": "stdout",
     "output_type": "stream",
     "text": [
      "Cross Validation Score :  0.536575194989\n",
      "Training Accuracy :  0.541156365708\n",
      "Testing Accuracy :  0.5625\n"
     ]
    }
   ],
   "source": [
    "## Setting the classifier to be the hyperparameter tuned Linear SVM.\n",
    "Classifier = Clf.best_estimator_\n",
    "\n",
    "## Defining a list to store the Cross-Validation Scores.\n",
    "crossValidationScores = []\n",
    "\n",
    "## Computing the 10-fold cross-validation score.\n",
    "cvScore = cross_val_score(Classifier, XTrain, YTrain['FTR'], cv = 10)\n",
    "crossValidationScores.append(np.mean(cvScore))\n",
    "print \"Cross Validation Score : \", np.mean(crossValidationScores)\n",
    "\n",
    "## Computing the Training and Testing Accuracies.\n",
    "Classifier.fit(XTrain,YTrain)\n",
    "print \"Training Accuracy : \", Classifier.score(XTrain, YTrain)\n",
    "print \"Testing Accuracy : \", Classifier.score(XTest, YTest)"
   ]
  },
  {
   "cell_type": "code",
   "execution_count": 8,
   "metadata": {
    "collapsed": false
   },
   "outputs": [
    {
     "name": "stdout",
     "output_type": "stream",
     "text": [
      "OrderedDict([('ATGD', 1), ('HTGD', 2), ('AForm', 3), ('AStWeighted', 4), ('ASt', 5), ('HForm', 6), ('AGKPP', 7), ('HStWeighted', 8), ('ACKPP', 9), ('HSt', 10), ('HMidfield', 11), ('HGKPP', 12), ('HSTKPP', 13), ('AOverall', 14), ('ASTKPP', 15), ('AAttack', 16), ('ADefense', 17), ('HCKPP', 18), ('HOverall', 19), ('HDefense', 20), ('HAttack', 21), ('AMidfield', 22)])\n"
     ]
    }
   ],
   "source": [
    "## Using Recursive Feature Elimination for performing feature selection.\n",
    "Rfe = RFE(Classifier, n_features_to_select = 1, step = 1)\n",
    "Rfe.fit(XTrain,YTrain)\n",
    "Rankings = Rfe.ranking_\n",
    "\n",
    "## Creating a list of features .\n",
    "Features = list(XTrain.columns.values)\n",
    "\n",
    "## Creating a dictionary to map the variable name to their RFE rankings .\n",
    "RFERanks = {}\n",
    "\n",
    "for i in range(0,len(Features)):\n",
    "    \n",
    "     RFERanks[Features[i]] = Rankings[i]\n",
    "        \n",
    "RFERanks = OrderedDict(sorted(RFERanks.items(), reverse = False, key = lambda t: t[1]))\n",
    "pprint(RFERanks)"
   ]
  },
  {
   "cell_type": "code",
   "execution_count": 9,
   "metadata": {
    "collapsed": false
   },
   "outputs": [],
   "source": [
    "## Remove the less relevant features and only keep the top ones.\n",
    "removeFeatures = []\n",
    "\n",
    "for key, value in RFERanks.iteritems():\n",
    "    if (value >= 15):\n",
    "        removeFeatures.append(key)\n",
    "\n",
    "XTrain.drop(removeFeatures, axis = 1, inplace = True)\n",
    "XTest.drop(removeFeatures, axis = 1, inplace = True)"
   ]
  },
  {
   "cell_type": "code",
   "execution_count": 10,
   "metadata": {
    "collapsed": false
   },
   "outputs": [],
   "source": [
    "parameters = { 'C' : [1, 2, 3, 4, 5, 6, 7, 8, 9, 10],\n",
    "               'gamma' : [0.01, 0.02, 0.03, 0.04, 0.05, 0.10, 0.20, 0.30, 0.40, 0.50]\n",
    "              }\n",
    "\n",
    "Clf = joblib.load('./GridSearchObjects/LSVMSetACP2.pkl')"
   ]
  },
  {
   "cell_type": "code",
   "execution_count": 11,
   "metadata": {
    "collapsed": true
   },
   "outputs": [],
   "source": [
    "## Clf = GridSearchCV(Classifier, parameters, n_jobs = 5, verbose = 4, scoring = 'accuracy')\n",
    "\n",
    "## ## Fitting the Model to the Training Data.\n",
    "## Clf.fit(XTrain, YTrain.values.ravel())"
   ]
  },
  {
   "cell_type": "code",
   "execution_count": 12,
   "metadata": {
    "collapsed": false
   },
   "outputs": [
    {
     "name": "stdout",
     "output_type": "stream",
     "text": [
      "0.533466248932\n",
      "SVC(C=4, cache_size=200, class_weight=None, coef0=0.0,\n",
      "  decision_function_shape=None, degree=3, gamma=0.01, kernel='linear',\n",
      "  max_iter=-1, probability=False, random_state=None, shrinking=True,\n",
      "  tol=0.001, verbose=False)\n"
     ]
    }
   ],
   "source": [
    "## Printing the statistics after hyper-parameter tuning.\n",
    "print Clf.best_score_\n",
    "print Clf.best_estimator_"
   ]
  },
  {
   "cell_type": "code",
   "execution_count": 13,
   "metadata": {
    "collapsed": false
   },
   "outputs": [
    {
     "name": "stdout",
     "output_type": "stream",
     "text": [
      "Cross Validation Score :  0.535721298885\n",
      "Training Accuracy :  0.538023355169\n",
      "Testing Accuracy :  0.5640625\n"
     ]
    }
   ],
   "source": [
    "## Setting the classifier to be the hyperparameter tuned Linear SVM.\n",
    "Classifier = Clf.best_estimator_\n",
    "\n",
    "## Defining a list to store the Cross-Validation Scores.\n",
    "crossValidationScores = []\n",
    "\n",
    "## Computing the 10-fold cross-validation score.\n",
    "cvScore = cross_val_score(Classifier, XTrain, YTrain['FTR'], cv = 10)\n",
    "crossValidationScores.append(np.mean(cvScore))\n",
    "print \"Cross Validation Score : \", np.mean(crossValidationScores)\n",
    "\n",
    "## Computing the Training and Testing Accuracies.\n",
    "Classifier.fit(XTrain,YTrain)\n",
    "print \"Training Accuracy : \", Classifier.score(XTrain, YTrain)\n",
    "print \"Testing Accuracy : \", Classifier.score(XTest, YTest)"
   ]
  },
  {
   "cell_type": "code",
   "execution_count": 14,
   "metadata": {
    "collapsed": false
   },
   "outputs": [
    {
     "data": {
      "text/plain": [
       "array([[267,  41,   0],\n",
       "       [ 80,  94,   0],\n",
       "       [125,  33,   0]])"
      ]
     },
     "execution_count": 14,
     "metadata": {},
     "output_type": "execute_result"
    }
   ],
   "source": [
    "## Obtaining our predictions made by the best Linear SVM Classifier .\n",
    "YPred = Classifier.predict(XTest)\n",
    "\n",
    "## Defining the target classes .\n",
    "classLabels = ['H','A','D']\n",
    "\n",
    "## Obtaining the confusion matrix for our predictions .\n",
    "confusionMatrix = confusion_matrix(YTest['FTR'], YPred, classLabels)\n",
    "confusionMatrix"
   ]
  },
  {
   "cell_type": "code",
   "execution_count": 15,
   "metadata": {
    "collapsed": false
   },
   "outputs": [
    {
     "name": "stdout",
     "output_type": "stream",
     "text": [
      "             precision    recall  f1-score   support\n",
      "\n",
      "          H       0.57      0.87      0.68       308\n",
      "          A       0.56      0.54      0.55       174\n",
      "          D       0.00      0.00      0.00       158\n",
      "\n",
      "avg / total       0.42      0.56      0.48       640\n",
      "\n"
     ]
    }
   ],
   "source": [
    "## Obtaining a more readable format of our Confusion Matrix in terms of a Classification Report . \n",
    "classificationReport = classification_report(YTest, YPred, classLabels)\n",
    "print classificationReport"
   ]
  },
  {
   "cell_type": "code",
   "execution_count": 16,
   "metadata": {
    "collapsed": false
   },
   "outputs": [
    {
     "data": {
      "text/plain": [
       "<matplotlib.axes._subplots.AxesSubplot at 0x10aff4d10>"
      ]
     },
     "execution_count": 16,
     "metadata": {},
     "output_type": "execute_result"
    },
    {
     "data": {
      "image/png": "[encoded data removed]",
      "text/plain": [
       "<matplotlib.figure.Figure at 0x10aff4390>"
      ]
     },
     "metadata": {},
     "output_type": "display_data"
    }
   ],
   "source": [
    "gridScores = Clf.grid_scores_\n",
    "\n",
    "gridScoresList = []\n",
    "\n",
    "for i in range(0, len(gridScores)):\n",
    "\n",
    "    Score = (gridScores[i][1],)\n",
    "    C = (gridScores[i][0]['C'],)\n",
    "    Gamma = (gridScores[i][0]['gamma'],)\n",
    "\n",
    "    Tuple = Score + C + Gamma\n",
    "    gridScoresList.append(Tuple)\n",
    "    \n",
    "df = pd.DataFrame(gridScoresList, columns = ['Validation Score', 'C', 'Gamma'])\n",
    "\n",
    "grid_map = df.pivot(\"Gamma\", \"C\", \"Validation Score\")\n",
    "sns.heatmap(grid_map, cmap = \"YlGnBu\")"
   ]
  }
 ],
 "metadata": {
  "kernelspec": {
   "display_name": "Python 2",
   "language": "python",
   "name": "python2"
  },
  "language_info": {
   "codemirror_mode": {
    "name": "ipython",
    "version": 2
   },
   "file_extension": ".py",
   "mimetype": "text/x-python",
   "name": "python",
   "nbconvert_exporter": "python",
   "pygments_lexer": "ipython2",
   "version": "2.7.10"
  }
 },
 "nbformat": 4,
 "nbformat_minor": 1
}
