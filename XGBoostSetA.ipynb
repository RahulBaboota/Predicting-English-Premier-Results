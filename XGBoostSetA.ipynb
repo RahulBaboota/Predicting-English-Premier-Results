{
 "cells": [
  {
   "cell_type": "code",
   "execution_count": 1,
   "metadata": {
    "collapsed": true
   },
   "outputs": [],
   "source": [
    "'------------------------------------------------- Initial Setup -------------------------------------------------'\n",
    "\n",
    "%matplotlib inline\n",
    "import itertools\n",
    "import numpy as np\n",
    "import pandas as pd\n",
    "import seaborn as sns\n",
    "from scipy import interp\n",
    "from pprint import pprint\n",
    "from itertools import cycle\n",
    "import matplotlib.pyplot as plt\n",
    "from collections import OrderedDict\n",
    "from sklearn.externals import joblib\n",
    "from xgboost.sklearn import XGBClassifier\n",
    "from TrainTestSplit import trainTestSplit\n",
    "from sklearn.metrics import roc_curve, auc\n",
    "from sklearn.metrics import confusion_matrix\n",
    "from sklearn.grid_search import GridSearchCV\n",
    "from sklearn.preprocessing import label_binarize\n",
    "from sklearn.model_selection import ShuffleSplit\n",
    "from sklearn.metrics import classification_report\n",
    "from sklearn.multiclass import OneVsRestClassifier\n",
    "from sklearn.model_selection import learning_curve\n",
    "from sklearn.model_selection import cross_val_score\n",
    "\n",
    "\n",
    "np.set_printoptions(precision = 2)"
   ]
  },
  {
   "cell_type": "code",
   "execution_count": 2,
   "metadata": {
    "collapsed": true
   },
   "outputs": [],
   "source": [
    "## Loading in the data of Set A.\n",
    "XTrain, XTest, YTrain, YTest = trainTestSplit(\"A\")"
   ]
  },
  {
   "cell_type": "code",
   "execution_count": 3,
   "metadata": {
    "collapsed": false
   },
   "outputs": [
    {
     "name": "stdout",
     "output_type": "stream",
     "text": [
      "Cross Validation Score :  0.527725322836\n",
      "Training Accuracy :  0.602962119054\n",
      "Testing Accuracy :  0.5421875\n"
     ]
    }
   ],
   "source": [
    "## Setting the classifier to be Vanilla XGBoostClassifier.\n",
    "Classifier = XGBClassifier()\n",
    "\n",
    "## Defining a list to store the Cross-Validation Scores.\n",
    "crossValidationScores = []\n",
    "\n",
    "## Computing the 10-fold cross-validation score.\n",
    "cvScore = cross_val_score(Classifier, XTrain, YTrain['FTR'], cv = 10)\n",
    "crossValidationScores.append(np.mean(cvScore))\n",
    "print \"Cross Validation Score : \", np.mean(crossValidationScores)\n",
    "\n",
    "## Computing the Training and Testing Accuracies.\n",
    "Classifier.fit(XTrain,YTrain)\n",
    "print \"Training Accuracy : \", Classifier.score(XTrain, YTrain)\n",
    "print \"Testing Accuracy : \", Classifier.score(XTest, YTest)"
   ]
  },
  {
   "cell_type": "code",
   "execution_count": 4,
   "metadata": {
    "collapsed": true
   },
   "outputs": [],
   "source": [
    "## Defining the hyperparameter space for searching the optimum set of hyperparameter values .\n",
    "parameters = { 'max_depth' : [3, 5, 6, 9, 12, 15, 17, 25],\n",
    "               'gamma' : [0.01, 0.02, 0.03, 0.04, 0.05, 0.1, 0.2, 0.5],\n",
    "               'learning_rate' : [0.01, 0.025, 0.05, 0.1],\n",
    "               'reg_lambda' : [0.01, 0.025, 0.075, 0.1, 0.2, 0.6, 1.0, 0.05]\n",
    "              }"
   ]
  },
  {
   "cell_type": "code",
   "execution_count": 15,
   "metadata": {
    "collapsed": true
   },
   "outputs": [],
   "source": [
    "# Loading the already tuned model with the above set of hyperparameters.\n",
    "Clf = joblib.load('./GridSearchObjects/XGBSetA.pkl')"
   ]
  },
  {
   "cell_type": "code",
   "execution_count": 9,
   "metadata": {
    "collapsed": false
   },
   "outputs": [],
   "source": [
    "# # Uncomment this block if you want to run the grid search yourself.\n",
    "# # Note : This is going to be computationally very expensive on your CPU !\n",
    "\n",
    "# Clf1 = GridSearchCV(Classifier, parameters, n_jobs = 5, verbose = 4, scoring = 'accuracy')\n",
    "\n",
    "# ## Fitting the Model to the Training Data.\n",
    "# Clf1.fit(XTrain, YTrain.values.ravel())\n",
    "\n",
    "# # Saving the grid search object.\n",
    "# joblib.dump(Clf1, './GridSearchObjects/XGBSetA.pkl')"
   ]
  },
  {
   "cell_type": "code",
   "execution_count": 10,
   "metadata": {
    "collapsed": false
   },
   "outputs": [
    {
     "name": "stdout",
     "output_type": "stream",
     "text": [
      "0.531757334093\n",
      "XGBClassifier(base_score=0.5, booster='gbtree', colsample_bylevel=1,\n",
      "       colsample_bytree=1, gamma=0.2, learning_rate=0.05, max_delta_step=0,\n",
      "       max_depth=3, min_child_weight=1, missing=nan, n_estimators=100,\n",
      "       n_jobs=1, nthread=None, objective='multi:softprob', random_state=0,\n",
      "       reg_alpha=0, reg_lambda=0.6, scale_pos_weight=1, seed=None,\n",
      "       silent=True, subsample=1)\n"
     ]
    }
   ],
   "source": [
    "## Printing the statistics after hyper-parameter tuning.\n",
    "print Clf.best_score_\n",
    "print Clf.best_estimator_"
   ]
  },
  {
   "cell_type": "code",
   "execution_count": 11,
   "metadata": {
    "collapsed": false
   },
   "outputs": [
    {
     "name": "stdout",
     "output_type": "stream",
     "text": [
      "Cross Validation Score :  0.532858467312\n",
      "Training Accuracy :  0.576473939049\n",
      "Testing Accuracy :  0.5453125\n"
     ]
    }
   ],
   "source": [
    "## Setting the classifier to be the hyperparameter tuned Random Forest Classifier.\n",
    "Classifier = Clf.best_estimator_\n",
    "\n",
    "## Defining a list to store the Cross-Validation Scores.\n",
    "crossValidationScores = []\n",
    "\n",
    "## Computing the 10-fold cross-validation score.\n",
    "cvScore = cross_val_score(Classifier, XTrain, YTrain['FTR'], cv = 10)\n",
    "crossValidationScores.append(np.mean(cvScore))\n",
    "print \"Cross Validation Score : \", np.mean(crossValidationScores)\n",
    "\n",
    "## Computing the Training and Testing Accuracies.\n",
    "Classifier.fit(XTrain,YTrain)\n",
    "print \"Training Accuracy : \", Classifier.score(XTrain, YTrain)\n",
    "print \"Testing Accuracy : \", Classifier.score(XTest, YTest)"
   ]
  },
  {
   "cell_type": "code",
   "execution_count": 12,
   "metadata": {
    "collapsed": false
   },
   "outputs": [],
   "source": [
    "## Obtaining our predictions made by the best Gaussian Naive Bayes Classifier .\n",
    "YPred = Classifier.predict(XTest)\n",
    "\n",
    "## Defining the target classes .\n",
    "classLabels = ['H','A','D']\n",
    "\n",
    "## Obtaining the confusion matrix for our predictions .\n",
    "confusionMatrix = confusion_matrix(YTest['FTR'], YPred, classLabels)"
   ]
  },
  {
   "cell_type": "code",
   "execution_count": 13,
   "metadata": {
    "collapsed": false
   },
   "outputs": [
    {
     "name": "stdout",
     "output_type": "stream",
     "text": [
      "             precision    recall  f1-score   support\n",
      "\n",
      "          H       0.55      0.84      0.67       308\n",
      "          A       0.52      0.51      0.51       174\n",
      "          D       0.50      0.02      0.04       158\n",
      "\n",
      "avg / total       0.53      0.55      0.47       640\n",
      "\n"
     ]
    }
   ],
   "source": [
    "## Obtaining a more readable format of our Confusion Matrix in terms of a Classification Report . \n",
    "\n",
    "classificationReport = classification_report(YTest, YPred, classLabels)\n",
    "print classificationReport"
   ]
  },
  {
   "cell_type": "code",
   "execution_count": 18,
   "metadata": {
    "collapsed": false
   },
   "outputs": [
    {
     "data": {
      "text/plain": [
       "<matplotlib.axes._subplots.AxesSubplot at 0x1079ce490>"
      ]
     },
     "execution_count": 18,
     "metadata": {},
     "output_type": "execute_result"
    },
    {
     "data": {
      "image/png": "[encoded data removed]",
      "text/plain": [
       "<matplotlib.figure.Figure at 0x107309e50>"
      ]
     },
     "metadata": {},
     "output_type": "display_data"
    }
   ],
   "source": [
    "gridScores = Clf.grid_scores_\n",
    "\n",
    "gridScoresList = []\n",
    "\n",
    "for i in range(0, len(gridScores)):\n",
    "\n",
    "    Score = (gridScores[i][1],)\n",
    "    learningRate = (gridScores[i][0]['learning_rate'],)\n",
    "    gamma = (gridScores[i][0]['gamma'],)\n",
    "\n",
    "    Tuple = Score + learningRate + gamma\n",
    "    gridScoresList.append(Tuple)\n",
    "    \n",
    "df = pd.DataFrame(gridScoresList, columns = ['Validation Score', 'learningRate', 'gamma'])\n",
    "df = df.drop_duplicates(subset = ['learningRate', 'gamma'])\n",
    "## df = df[np.isfinite(df['maxDepth'])]\n",
    "\n",
    "gridMap = df.pivot(\"gamma\", \"learningRate\", \"Validation Score\")\n",
    "sns.heatmap(gridMap, cmap = \"RdPu\")"
   ]
  },
  {
   "cell_type": "code",
   "execution_count": 24,
   "metadata": {
    "collapsed": false
   },
   "outputs": [
    {
     "data": {
      "text/plain": [
       "<matplotlib.axes._subplots.AxesSubplot at 0x107af3e90>"
      ]
     },
     "execution_count": 24,
     "metadata": {},
     "output_type": "execute_result"
    },
    {
     "data": {
      "image/png": "[encoded data removed]",
      "text/plain": [
       "<matplotlib.figure.Figure at 0x107e1aa50>"
      ]
     },
     "metadata": {},
     "output_type": "display_data"
    }
   ],
   "source": [
    "gridScores = Clf.grid_scores_\n",
    "\n",
    "gridScoresList = []\n",
    "\n",
    "for i in range(0, len(gridScores)):\n",
    "\n",
    "    Score = (gridScores[i][1],)\n",
    "    regLambda = (gridScores[i][0]['reg_lambda'],)\n",
    "    maxDepth = (gridScores[i][0]['max_depth'],)\n",
    "\n",
    "    Tuple = Score + regLambda + maxDepth\n",
    "    gridScoresList.append(Tuple)\n",
    "    \n",
    "df = pd.DataFrame(gridScoresList, columns = ['Validation Score', 'regLambda', 'maxDepth'])\n",
    "df = df.drop_duplicates(subset = ['regLambda', 'maxDepth'])\n",
    "\n",
    "gridMap = df.pivot(\"regLambda\", \"maxDepth\", \"Validation Score\")\n",
    "sns.heatmap(gridMap, cmap = \"viridis_r\")"
   ]
  }
 ],
 "metadata": {
  "kernelspec": {
   "display_name": "Python 2",
   "language": "python",
   "name": "python2"
  },
  "language_info": {
   "codemirror_mode": {
    "name": "ipython",
    "version": 2
   },
   "file_extension": ".py",
   "mimetype": "text/x-python",
   "name": "python",
   "nbconvert_exporter": "python",
   "pygments_lexer": "ipython2",
   "version": "2.7.10"
  }
 },
 "nbformat": 4,
 "nbformat_minor": 1
}
