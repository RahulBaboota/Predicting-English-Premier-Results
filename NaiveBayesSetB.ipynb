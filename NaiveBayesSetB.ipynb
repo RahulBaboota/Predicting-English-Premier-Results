{
 "cells": [
  {
   "cell_type": "code",
   "execution_count": 1,
   "metadata": {
    "collapsed": true
   },
   "outputs": [],
   "source": [
    "import numpy as np\n",
    "import pandas as pd\n",
    "from TrainTestSplit import trainTestSplit\n",
    "from sklearn.naive_bayes import GaussianNB\n",
    "\n",
    "'------------------------------------------------- Initial Setup -------------------------------------------------'\n",
    "\n",
    "%matplotlib inline\n",
    "import matplotlib.pyplot as plt\n",
    "from sklearn.naive_bayes import GaussianNB\n",
    "from sklearn.metrics import confusion_matrix\n",
    "from sklearn.metrics import classification_report\n",
    "from sklearn.model_selection import cross_val_score\n",
    "\n",
    "np.set_printoptions(precision = 2)"
   ]
  },
  {
   "cell_type": "code",
   "execution_count": 2,
   "metadata": {
    "collapsed": true
   },
   "outputs": [],
   "source": [
    "## Loading in the data of Set B.\n",
    "XTrain, XTest, YTrain, YTest = trainTestSplit(\"B\")"
   ]
  },
  {
   "cell_type": "code",
   "execution_count": 3,
   "metadata": {
    "collapsed": false
   },
   "outputs": [
    {
     "name": "stdout",
     "output_type": "stream",
     "text": [
      "Cross Validation Score :  0.510946810272\n",
      "Training Accuracy :  0.513244090003\n",
      "Testing Accuracy :  0.5484375\n"
     ]
    }
   ],
   "source": [
    "## Setting the classifier to be Gaussian Naive Bayes .\n",
    "Classifier = GaussianNB()\n",
    "\n",
    "## Defining a list to store the Cross-Validation Scores .\n",
    "crossValidationScores = []\n",
    "\n",
    "## Computing the 10-fold cross-validation score.\n",
    "cvScore = cross_val_score(Classifier, XTrain, YTrain['FTR'], cv = 10)\n",
    "crossValidationScores.append(np.mean(cvScore))\n",
    "print \"Cross Validation Score : \", np.mean(crossValidationScores)\n",
    "\n",
    "## Computing the Training and Testing Accuracies .\n",
    "Classifier.fit(XTrain,YTrain)\n",
    "print \"Training Accuracy : \", Classifier.score(XTrain, YTrain)\n",
    "print \"Testing Accuracy : \", Classifier.score(XTest, YTest)"
   ]
  },
  {
   "cell_type": "code",
   "execution_count": 4,
   "metadata": {
    "collapsed": false
   },
   "outputs": [
    {
     "name": "stdout",
     "output_type": "stream",
     "text": [
      "Cross Validation Score :  0.512085602075\n",
      "Training Accuracy :  0.515807462261\n",
      "Testing Accuracy :  0.5515625\n"
     ]
    }
   ],
   "source": [
    "## Removing the highly correlated variables.\n",
    "highCorr = ['Streak']\n",
    "\n",
    "XTrain.drop(highCorr, axis = 1 , inplace = True)\n",
    "XTest.drop(highCorr, axis = 1 , inplace = True)\n",
    "\n",
    "## Computing the 10-fold cross-validation score.\n",
    "cvScore = cross_val_score(Classifier, XTrain, YTrain['FTR'], cv = 10)\n",
    "crossValidationScores.append(np.mean(cvScore))\n",
    "print \"Cross Validation Score : \", np.mean(crossValidationScores)\n",
    "\n",
    "## Computing the Training and Testing Accuracies .\n",
    "Classifier.fit(XTrain,YTrain)\n",
    "print \"Training Accuracy : \", Classifier.score(XTrain, YTrain)\n",
    "print \"Testing Accuracy : \", Classifier.score(XTest, YTest)"
   ]
  },
  {
   "cell_type": "code",
   "execution_count": 5,
   "metadata": {
    "collapsed": false
   },
   "outputs": [
    {
     "data": {
      "text/plain": [
       "array([[205,  56,  47],\n",
       "       [ 37, 115,  22],\n",
       "       [ 74,  51,  33]])"
      ]
     },
     "execution_count": 5,
     "metadata": {},
     "output_type": "execute_result"
    }
   ],
   "source": [
    "## Obtaining our predictions made by the best Gaussian Naive Bayes Classifier .\n",
    "YPred = Classifier.predict(XTest)\n",
    "\n",
    "## Defining the target classes .\n",
    "classLabels = ['H','A','D']\n",
    "\n",
    "## Obtaining the confusion matrix for our predictions .\n",
    "confusionMatrix = confusion_matrix(YTest['FTR'], YPred, classLabels)\n",
    "confusionMatrix"
   ]
  },
  {
   "cell_type": "code",
   "execution_count": 6,
   "metadata": {
    "collapsed": false
   },
   "outputs": [
    {
     "name": "stdout",
     "output_type": "stream",
     "text": [
      "             precision    recall  f1-score   support\n",
      "\n",
      "          H       0.65      0.67      0.66       308\n",
      "          A       0.52      0.66      0.58       174\n",
      "          D       0.32      0.21      0.25       158\n",
      "\n",
      "avg / total       0.53      0.55      0.54       640\n",
      "\n"
     ]
    }
   ],
   "source": [
    "## Obtaining a more readable format of our Confusion Matrix in terms of a Classification Report . \n",
    "\n",
    "classificationReport = classification_report(YTest, YPred, classLabels)\n",
    "print classificationReport"
   ]
  },
  {
   "cell_type": "code",
   "execution_count": 8,
   "metadata": {
    "collapsed": true
   },
   "outputs": [],
   "source": [
    "## Visualising a comparison between the true and predicted class results.\n",
    "## Defining the Final Result labels .\n",
    "resultsLabels = ['Away','Draw','Home']\n",
    "\n",
    "## Defining the True Labels .\n",
    "trueValues = list(list(np.unique(YTest['FTR'] , return_counts = True))[1])\n",
    "\n",
    "## Computing Predictions with our fine-tuned Naive Bayes Classifier .\n",
    "YPred = Classifier.predict(XTest)\n",
    "predValues = list(list(np.unique(YPred , return_counts = True))[1])"
   ]
  },
  {
   "cell_type": "code",
   "execution_count": 9,
   "metadata": {
    "collapsed": false
   },
   "outputs": [
    {
     "data": {
      "image/png": "[encoded data removed]",
      "text/plain": [
       "<matplotlib.figure.Figure at 0x10ba361d0>"
      ]
     },
     "metadata": {},
     "output_type": "display_data"
    }
   ],
   "source": [
    "fig = plt.figure()\n",
    "ax = fig.add_subplot(111)\n",
    "ind = np.arange(3)\n",
    "width = 0.15      \n",
    "rects1 = ax.bar(ind, trueValues, width, color = '#1565C0', error_kw = dict(elinewidth = 2, ecolor = 'blue'))\n",
    "\n",
    "rects2 = ax.bar(ind + width, predValues, width, color = '#00E676', error_kw = dict(elinewidth = 2, ecolor = 'black'))\n",
    "\n",
    "ax.set_xlim(-width,len(ind) + width)\n",
    "ax.set_ylim(0, 450)\n",
    "ax.set_ylabel('Frequency of Result Type')\n",
    "ax.set_title('Comparison between True and Predicted Results by Result Class (Naive Bayes Set A)')\n",
    "xTickMarks = resultsLabels\n",
    "ax.set_xticks(ind + width)\n",
    "xtickNames = ax.set_xticklabels(xTickMarks)\n",
    "plt.setp(xtickNames, rotation=45, fontsize=8)\n",
    "ax.legend( (rects1[0], rects2[0]), ('True', 'Predicted') )\n",
    "plt.show()"
   ]
  },
  {
   "cell_type": "code",
   "execution_count": null,
   "metadata": {
    "collapsed": true
   },
   "outputs": [],
   "source": []
  }
 ],
 "metadata": {
  "kernelspec": {
   "display_name": "Python 2",
   "language": "python",
   "name": "python2"
  },
  "language_info": {
   "codemirror_mode": {
    "name": "ipython",
    "version": 2
   },
   "file_extension": ".py",
   "mimetype": "text/x-python",
   "name": "python",
   "nbconvert_exporter": "python",
   "pygments_lexer": "ipython2",
   "version": "2.7.10"
  }
 },
 "nbformat": 4,
 "nbformat_minor": 1
}
