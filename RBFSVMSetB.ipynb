{
 "cells": [
  {
   "cell_type": "code",
   "execution_count": 1,
   "metadata": {
    "collapsed": false
   },
   "outputs": [],
   "source": [
    "import numpy as np\n",
    "import pandas as pd\n",
    "from sklearn.externals import joblib\n",
    "from TrainTestSplit import trainTestSplit\n",
    "from sklearn.naive_bayes import GaussianNB\n",
    "\n",
    "'------------------------------------------------- Initial Setup -------------------------------------------------'\n",
    "\n",
    "%matplotlib inline\n",
    "import seaborn as sns\n",
    "from scipy import interp\n",
    "from pprint import pprint\n",
    "from itertools import cycle\n",
    "from sklearn.svm import SVC\n",
    "import matplotlib.pyplot as plt\n",
    "from collections import OrderedDict\n",
    "from sklearn.feature_selection import RFE\n",
    "from sklearn.metrics import roc_curve, auc\n",
    "from sklearn.feature_selection import RFECV\n",
    "from sklearn.metrics import confusion_matrix\n",
    "from sklearn.grid_search import GridSearchCV\n",
    "from sklearn.preprocessing import label_binarize\n",
    "from sklearn.model_selection import ShuffleSplit\n",
    "from sklearn.metrics import classification_report\n",
    "from sklearn.multiclass import OneVsRestClassifier\n",
    "from sklearn.model_selection import learning_curve\n",
    "from sklearn.model_selection import cross_val_score\n",
    "\n",
    "np.set_printoptions(precision = 2)"
   ]
  },
  {
   "cell_type": "code",
   "execution_count": 2,
   "metadata": {
    "collapsed": true
   },
   "outputs": [],
   "source": [
    "## Loading in the data of Set B.\n",
    "XTrain, XTest, YTrain, YTest = trainTestSplit(\"B\")"
   ]
  },
  {
   "cell_type": "code",
   "execution_count": 3,
   "metadata": {
    "collapsed": false
   },
   "outputs": [
    {
     "name": "stdout",
     "output_type": "stream",
     "text": [
      "Cross Validation Score :  0.514948419852\n",
      "Training Accuracy :  0.695528339504\n",
      "Testing Accuracy :  0.5390625\n"
     ]
    }
   ],
   "source": [
    "## Setting the classifier to be Vanilla RBF SVM.\n",
    "Classifier = SVC(kernel = 'rbf', probability = True)\n",
    "\n",
    "## Defining a list to store the Cross-Validation Scores.\n",
    "crossValidationScores = []\n",
    "\n",
    "## Computing the 10-fold cross-validation score.\n",
    "cvScore = cross_val_score(Classifier, XTrain, YTrain['FTR'], cv = 10)\n",
    "crossValidationScores.append(np.mean(cvScore))\n",
    "print \"Cross Validation Score : \", np.mean(crossValidationScores)\n",
    "\n",
    "## Computing the Training and Testing Accuracies.\n",
    "Classifier.fit(XTrain,YTrain)\n",
    "print \"Training Accuracy : \", Classifier.score(XTrain, YTrain)\n",
    "print \"Testing Accuracy : \", Classifier.score(XTest, YTest)"
   ]
  },
  {
   "cell_type": "code",
   "execution_count": 4,
   "metadata": {
    "collapsed": false,
    "scrolled": true
   },
   "outputs": [],
   "source": [
    "parameters = { 'C' : [1, 2, 3, 4, 5, 6, 7, 8, 9, 10],\n",
    "               'gamma' : [0.01, 0.02, 0.03, 0.04, 0.05, 0.10, 0.20, 0.30, 0.40, 0.50]\n",
    "              }\n",
    "\n",
    "Clf = joblib.load('./GridSearchObjects/SVMSetBCP1.pkl')"
   ]
  },
  {
   "cell_type": "code",
   "execution_count": 5,
   "metadata": {
    "collapsed": true
   },
   "outputs": [],
   "source": [
    "## Clf = GridSearchCV(Classifier, parameters, n_jobs = 5, verbose = 4, scoring = 'accuracy')\n",
    "\n",
    "## Fitting the Model to the Training Data.\n",
    "## Clf.fit(XTrain, YTrain.values.ravel())"
   ]
  },
  {
   "cell_type": "code",
   "execution_count": 6,
   "metadata": {
    "collapsed": false
   },
   "outputs": [
    {
     "name": "stdout",
     "output_type": "stream",
     "text": [
      "0.532326972373\n",
      "SVC(C=1, cache_size=200, class_weight=None, coef0=0.0,\n",
      "  decision_function_shape=None, degree=3, gamma=0.01, kernel='rbf',\n",
      "  max_iter=-1, probability=True, random_state=None, shrinking=True,\n",
      "  tol=0.001, verbose=False)\n"
     ]
    }
   ],
   "source": [
    "## Printing the statistics after hyper-parameter tuning.\n",
    "print Clf.best_score_\n",
    "print Clf.best_estimator_"
   ]
  },
  {
   "cell_type": "code",
   "execution_count": 7,
   "metadata": {
    "collapsed": false
   },
   "outputs": [
    {
     "name": "stdout",
     "output_type": "stream",
     "text": [
      "Cross Validation Score :  0.53429110408\n",
      "Training Accuracy :  0.544859014526\n",
      "Testing Accuracy :  0.5578125\n"
     ]
    }
   ],
   "source": [
    "## Setting the classifier to be the hyperparameter tuned RBF SVM.\n",
    "Classifier1 = Clf.best_estimator_\n",
    "\n",
    "## Defining a list to store the Cross-Validation Scores.\n",
    "crossValidationScores = []\n",
    "\n",
    "## Computing the 10-fold cross-validation score.\n",
    "cvScore = cross_val_score(Classifier1, XTrain, YTrain['FTR'], cv = 10)\n",
    "crossValidationScores.append(np.mean(cvScore))\n",
    "print \"Cross Validation Score : \", np.mean(crossValidationScores)\n",
    "\n",
    "## Computing the Training and Testing Accuracies.\n",
    "Classifier1.fit(XTrain,YTrain)\n",
    "print \"Training Accuracy : \", Classifier1.score(XTrain, YTrain)\n",
    "print \"Testing Accuracy : \", Classifier1.score(XTest, YTest)"
   ]
  },
  {
   "cell_type": "code",
   "execution_count": 8,
   "metadata": {
    "collapsed": false,
    "scrolled": true
   },
   "outputs": [],
   "source": [
    "## Removing the highly correlated variables.\n",
    "highCorr = ['Streak']\n",
    "\n",
    "XTrain.drop(highCorr, axis = 1 , inplace = True)\n",
    "XTest.drop(highCorr, axis = 1 , inplace = True)\n",
    "\n",
    "parameters = { 'C' : [1, 2, 3, 4, 5, 6, 7, 8, 9, 10],\n",
    "               'gamma' : [0.01, 0.02, 0.03, 0.04, 0.05, 0.10, 0.20, 0.30, 0.40, 0.50]\n",
    "              }\n",
    "\n",
    "Clf = joblib.load('./GridSearchObjects/SVMSetBCP2.pkl')"
   ]
  },
  {
   "cell_type": "code",
   "execution_count": 9,
   "metadata": {
    "collapsed": true
   },
   "outputs": [],
   "source": [
    "## Clf = GridSearchCV(Classifier, parameters, n_jobs = 5, verbose = 4, scoring = 'accuracy')\n",
    "\n",
    "## Fitting the Model to the Training Data.\n",
    "## Clf.fit(XTrain, YTrain.values.ravel())"
   ]
  },
  {
   "cell_type": "code",
   "execution_count": 10,
   "metadata": {
    "collapsed": false
   },
   "outputs": [
    {
     "name": "stdout",
     "output_type": "stream",
     "text": [
      "0.532326972373\n",
      "SVC(C=1, cache_size=200, class_weight=None, coef0=0.0,\n",
      "  decision_function_shape=None, degree=3, gamma=0.01, kernel='rbf',\n",
      "  max_iter=-1, probability=True, random_state=None, shrinking=True,\n",
      "  tol=0.001, verbose=False)\n"
     ]
    }
   ],
   "source": [
    "## Printing the statistics after hyper-parameter tuning.\n",
    "print Clf.best_score_\n",
    "print Clf.best_estimator_"
   ]
  },
  {
   "cell_type": "code",
   "execution_count": 11,
   "metadata": {
    "collapsed": false
   },
   "outputs": [
    {
     "name": "stdout",
     "output_type": "stream",
     "text": [
      "Cross Validation Score :  0.534007817961\n",
      "Training Accuracy :  0.544859014526\n",
      "Testing Accuracy :  0.5578125\n"
     ]
    }
   ],
   "source": [
    "## Setting the classifier to be the hyperparameter tuned RBF SVM.\n",
    "Classifier2 = Clf.best_estimator_\n",
    "\n",
    "## Defining a list to store the Cross-Validation Scores.\n",
    "crossValidationScores = []\n",
    "\n",
    "## Computing the 10-fold cross-validation score.\n",
    "cvScore = cross_val_score(Classifier2, XTrain, YTrain['FTR'], cv = 10)\n",
    "crossValidationScores.append(np.mean(cvScore))\n",
    "print \"Cross Validation Score : \", np.mean(crossValidationScores)\n",
    "\n",
    "## Computing the Training and Testing Accuracies.\n",
    "Classifier2.fit(XTrain,YTrain)\n",
    "print \"Training Accuracy : \", Classifier2.score(XTrain, YTrain)\n",
    "print \"Testing Accuracy : \", Classifier2.score(XTest, YTest)"
   ]
  },
  {
   "cell_type": "code",
   "execution_count": 12,
   "metadata": {
    "collapsed": false
   },
   "outputs": [],
   "source": [
    "## Loading in the data of Set B.\n",
    "XTrain, XTest, YTrain, YTest = trainTestSplit(\"B\")\n",
    "\n",
    "## Removing the highly correlated variables.\n",
    "highCorr = ['Streak']\n",
    "\n",
    "XTrain.drop(highCorr, axis = 1 , inplace = True)\n",
    "XTest.drop(highCorr, axis = 1 , inplace = True)\n",
    "\n",
    "Classifier.fit(XTrain, YTrain)\n",
    "\n",
    "## Obtaining our predictions made by the best Gaussian Naive Bayes Classifier .\n",
    "YPred = Classifier.predict(XTest)\n",
    "\n",
    "## Defining the target classes .\n",
    "classLabels = ['H','A','D']\n",
    "\n",
    "## Obtaining the confusion matrix for our predictions .\n",
    "confusionMatrix = confusion_matrix(YTest['FTR'], YPred, classLabels)"
   ]
  },
  {
   "cell_type": "code",
   "execution_count": 13,
   "metadata": {
    "collapsed": false
   },
   "outputs": [
    {
     "name": "stdout",
     "output_type": "stream",
     "text": [
      "             precision    recall  f1-score   support\n",
      "\n",
      "          H       0.57      0.82      0.67       308\n",
      "          A       0.54      0.48      0.51       174\n",
      "          D       0.30      0.07      0.11       158\n",
      "\n",
      "avg / total       0.49      0.55      0.49       640\n",
      "\n"
     ]
    }
   ],
   "source": [
    "## Obtaining a more readable format of our Confusion Matrix in terms of a Classification Report . \n",
    "\n",
    "classificationReport = classification_report(YTest, YPred, classLabels)\n",
    "print classificationReport"
   ]
  },
  {
   "cell_type": "code",
   "execution_count": 14,
   "metadata": {
    "collapsed": false
   },
   "outputs": [
    {
     "data": {
      "text/plain": [
       "<matplotlib.axes._subplots.AxesSubplot at 0x105aad610>"
      ]
     },
     "execution_count": 14,
     "metadata": {},
     "output_type": "execute_result"
    },
    {
     "data": {
      "image/png": "[encoded data removed]",
      "text/plain": [
       "<matplotlib.figure.Figure at 0x105aad3d0>"
      ]
     },
     "metadata": {},
     "output_type": "display_data"
    }
   ],
   "source": [
    "gridScores = Clf.grid_scores_\n",
    "\n",
    "gridScoresList = []\n",
    "\n",
    "for i in range(0, len(gridScores)):\n",
    "\n",
    "    Score = (gridScores[i][1],)\n",
    "    C = (gridScores[i][0]['C'],)\n",
    "    Gamma = (gridScores[i][0]['gamma'],)\n",
    "\n",
    "    Tuple = Score + C + Gamma\n",
    "    gridScoresList.append(Tuple)\n",
    "    \n",
    "df = pd.DataFrame(gridScoresList, columns = ['Validation Score', 'C', 'Gamma'])\n",
    "\n",
    "grid_map = df.pivot(\"Gamma\", \"C\", \"Validation Score\")\n",
    "sns.heatmap(grid_map, cmap = \"YlGnBu\")"
   ]
  }
 ],
 "metadata": {
  "kernelspec": {
   "display_name": "Python 2",
   "language": "python",
   "name": "python2"
  },
  "language_info": {
   "codemirror_mode": {
    "name": "ipython",
    "version": 2
   },
   "file_extension": ".py",
   "mimetype": "text/x-python",
   "name": "python",
   "nbconvert_exporter": "python",
   "pygments_lexer": "ipython2",
   "version": "2.7.10"
  }
 },
 "nbformat": 4,
 "nbformat_minor": 1
}
